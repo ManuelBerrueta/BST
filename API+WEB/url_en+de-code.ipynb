{
 "cells": [
  {
   "cell_type": "code",
   "execution_count": 3,
   "metadata": {},
   "outputs": [],
   "source": [
    "import urllib.parse\n",
    "import pyperclip\n",
    "\n",
    "def url_encode(string):\n",
    "    encoded_string = urllib.parse.quote(string)\n",
    "    return encoded_string\n",
    "\n",
    "def url_decode(string):\n",
    "    decoded_string = urllib.parse.unquote(string)\n",
    "    return decoded_string"
   ]
  },
  {
   "cell_type": "code",
   "execution_count": 4,
   "metadata": {},
   "outputs": [],
   "source": [
    "strToEncode = \"' or true() or '\""
   ]
  },
  {
   "cell_type": "code",
   "execution_count": null,
   "metadata": {},
   "outputs": [],
   "source": [
    "url_encoded = url_encode(strToEncode)\n",
    "print(url_encoded)\n",
    "pyperclip.copy(url_encoded)"
   ]
  },
  {
   "cell_type": "code",
   "execution_count": 8,
   "metadata": {},
   "outputs": [],
   "source": [
    "str_to_decode = \"''%20or%20true()%20or%20''\""
   ]
  },
  {
   "cell_type": "code",
   "execution_count": null,
   "metadata": {},
   "outputs": [],
   "source": [
    "url_decoded = url_decode(str_to_decode)\n",
    "print(url_decoded)\n",
    "pyperclip.copy(url_decoded)"
   ]
  }
 ],
 "metadata": {
  "kernelspec": {
   "display_name": "Python 3",
   "language": "python",
   "name": "python3"
  },
  "language_info": {
   "codemirror_mode": {
    "name": "ipython",
    "version": 3
   },
   "file_extension": ".py",
   "mimetype": "text/x-python",
   "name": "python",
   "nbconvert_exporter": "python",
   "pygments_lexer": "ipython3",
   "version": "3.10.12"
  }
 },
 "nbformat": 4,
 "nbformat_minor": 2
}
