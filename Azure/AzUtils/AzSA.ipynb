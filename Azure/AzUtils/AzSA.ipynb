{
 "cells": [
  {
   "cell_type": "code",
   "execution_count": 3,
   "metadata": {},
   "outputs": [],
   "source": [
    "import os\n",
    "import uuid\n",
    "from azure.storage.blob import BlobBlock, BlobServiceClient, BlobClient, ContainerClient, __version__"
   ]
  },
  {
   "cell_type": "markdown",
   "metadata": {},
   "source": [
    "Enter `Connection String` for the `Azure Storage Account` below:"
   ]
  },
  {
   "cell_type": "code",
   "execution_count": 1,
   "metadata": {},
   "outputs": [],
   "source": [
    "connect_str = \"Your Connection String Here\""
   ]
  },
  {
   "cell_type": "markdown",
   "metadata": {},
   "source": [
    "Create a SA Client"
   ]
  },
  {
   "cell_type": "code",
   "execution_count": 6,
   "metadata": {},
   "outputs": [],
   "source": [
    "try:\n",
    "    # Create the BlobServiceClient object which will be used to create a container client\n",
    "    blob_service_client = BlobServiceClient.from_connection_string(connect_str)\n",
    "except Exception as ex:\n",
    "    print('Exception:')\n",
    "    print(ex)"
   ]
  },
  {
   "cell_type": "markdown",
   "metadata": {},
   "source": [
    "<PRE align=\"center\">Create a Container</PRE>"
   ]
  },
  {
   "cell_type": "code",
   "execution_count": 4,
   "metadata": {},
   "outputs": [],
   "source": [
    "try:\n",
    "    # Create the BlobServiceClient object which will be used to create a container client\n",
    "    blob_service_client = BlobServiceClient.from_connection_string(connect_str)\n",
    "\n",
    "    # Create a unique name for the container\n",
    "    #container_name = str(uuid.uuid4())\n",
    "    container_name = \"MyContainer\"\n",
    "\n",
    "    # Create the container\n",
    "    container_client = blob_service_client.create_container(container_name)\n",
    "except Exception as ex:\n",
    "    print('Exception:')\n",
    "    print(ex)\n"
   ]
  },
  {
   "cell_type": "markdown",
   "metadata": {},
   "source": [
    "Create a Container Client"
   ]
  },
  {
   "cell_type": "code",
   "execution_count": 7,
   "metadata": {},
   "outputs": [
    {
     "ename": "SyntaxError",
     "evalue": "invalid syntax (4069173772.py, line 3)",
     "output_type": "error",
     "traceback": [
      "\u001b[1;36m  Input \u001b[1;32mIn [7]\u001b[1;36m\u001b[0m\n\u001b[1;33m    container_client = blob_service_client.\u001b[0m\n\u001b[1;37m                                           ^\u001b[0m\n\u001b[1;31mSyntaxError\u001b[0m\u001b[1;31m:\u001b[0m invalid syntax\n"
     ]
    }
   ],
   "source": [
    "# Use this for a new target container\n",
    "#container_name\n",
    "#container_client = blob_service_client."
   ]
  },
  {
   "cell_type": "markdown",
   "metadata": {},
   "source": [
    "Enumerate Storage Account Details"
   ]
  },
  {
   "cell_type": "code",
   "execution_count": 12,
   "metadata": {},
   "outputs": [
    {
     "ename": "AttributeError",
     "evalue": "type object 'BlobServiceClient' has no attribute '_client'",
     "output_type": "error",
     "traceback": [
      "\u001b[1;31m---------------------------------------------------------------------------\u001b[0m",
      "\u001b[1;31mAttributeError\u001b[0m                            Traceback (most recent call last)",
      "\u001b[1;32md:\\Repos\\BST\\Azure\\AzUtils\\AzSA.ipynb Cell 11'\u001b[0m in \u001b[0;36m<cell line: 6>\u001b[1;34m()\u001b[0m\n\u001b[0;32m      <a href='vscode-notebook-cell:/d%3A/Repos/BST/Azure/AzUtils/AzSA.ipynb#ch0000006?line=0'>1</a>\u001b[0m \u001b[39m#print(f'Storage Account Name: {container_client.account_name}\\n')\u001b[39;00m\n\u001b[0;32m      <a href='vscode-notebook-cell:/d%3A/Repos/BST/Azure/AzUtils/AzSA.ipynb#ch0000006?line=1'>2</a>\u001b[0m \u001b[39m#container_list = blob_service_client.list_containers()\u001b[39;00m\n\u001b[0;32m      <a href='vscode-notebook-cell:/d%3A/Repos/BST/Azure/AzUtils/AzSA.ipynb#ch0000006?line=2'>3</a>\u001b[0m \u001b[39m#print(container_list)\u001b[39;00m\n\u001b[0;32m      <a href='vscode-notebook-cell:/d%3A/Repos/BST/Azure/AzUtils/AzSA.ipynb#ch0000006?line=3'>4</a>\u001b[0m \n\u001b[0;32m      <a href='vscode-notebook-cell:/d%3A/Repos/BST/Azure/AzUtils/AzSA.ipynb#ch0000006?line=4'>5</a>\u001b[0m \u001b[39m#containers = container_client.list_blobs()\u001b[39;00m\n\u001b[1;32m----> <a href='vscode-notebook-cell:/d%3A/Repos/BST/Azure/AzUtils/AzSA.ipynb#ch0000006?line=5'>6</a>\u001b[0m containers \u001b[39m=\u001b[39m BlobServiceClient\u001b[39m.\u001b[39;49mlist_containers(BlobServiceClient)\n\u001b[0;32m      <a href='vscode-notebook-cell:/d%3A/Repos/BST/Azure/AzUtils/AzSA.ipynb#ch0000006?line=6'>7</a>\u001b[0m \u001b[39mfor\u001b[39;00m container \u001b[39min\u001b[39;00m containers:\n\u001b[0;32m      <a href='vscode-notebook-cell:/d%3A/Repos/BST/Azure/AzUtils/AzSA.ipynb#ch0000006?line=7'>8</a>\u001b[0m     \u001b[39mprint\u001b[39m(\u001b[39m\"\u001b[39m\u001b[39m\\t\u001b[39;00m\u001b[39m\"\u001b[39m \u001b[39m+\u001b[39m container\u001b[39m.\u001b[39mname)\n",
      "File \u001b[1;32m~\\AppData\\Local\\Packages\\PythonSoftwareFoundation.Python.3.9_qbz5n2kfra8p0\\LocalCache\\local-packages\\Python39\\site-packages\\azure\\core\\tracing\\decorator.py:73\u001b[0m, in \u001b[0;36mdistributed_trace.<locals>.decorator.<locals>.wrapper_use_tracer\u001b[1;34m(*args, **kwargs)\u001b[0m\n\u001b[0;32m     <a href='file:///c%3A/Users/mberrueta/AppData/Local/Packages/PythonSoftwareFoundation.Python.3.9_qbz5n2kfra8p0/LocalCache/local-packages/Python39/site-packages/azure/core/tracing/decorator.py?line=70'>71</a>\u001b[0m span_impl_type \u001b[39m=\u001b[39m settings\u001b[39m.\u001b[39mtracing_implementation()\n\u001b[0;32m     <a href='file:///c%3A/Users/mberrueta/AppData/Local/Packages/PythonSoftwareFoundation.Python.3.9_qbz5n2kfra8p0/LocalCache/local-packages/Python39/site-packages/azure/core/tracing/decorator.py?line=71'>72</a>\u001b[0m \u001b[39mif\u001b[39;00m span_impl_type \u001b[39mis\u001b[39;00m \u001b[39mNone\u001b[39;00m:\n\u001b[1;32m---> <a href='file:///c%3A/Users/mberrueta/AppData/Local/Packages/PythonSoftwareFoundation.Python.3.9_qbz5n2kfra8p0/LocalCache/local-packages/Python39/site-packages/azure/core/tracing/decorator.py?line=72'>73</a>\u001b[0m     \u001b[39mreturn\u001b[39;00m func(\u001b[39m*\u001b[39margs, \u001b[39m*\u001b[39m\u001b[39m*\u001b[39mkwargs)\n\u001b[0;32m     <a href='file:///c%3A/Users/mberrueta/AppData/Local/Packages/PythonSoftwareFoundation.Python.3.9_qbz5n2kfra8p0/LocalCache/local-packages/Python39/site-packages/azure/core/tracing/decorator.py?line=74'>75</a>\u001b[0m \u001b[39m# Merge span is parameter is set, but only if no explicit parent are passed\u001b[39;00m\n\u001b[0;32m     <a href='file:///c%3A/Users/mberrueta/AppData/Local/Packages/PythonSoftwareFoundation.Python.3.9_qbz5n2kfra8p0/LocalCache/local-packages/Python39/site-packages/azure/core/tracing/decorator.py?line=75'>76</a>\u001b[0m \u001b[39mif\u001b[39;00m merge_span \u001b[39mand\u001b[39;00m \u001b[39mnot\u001b[39;00m passed_in_parent:\n",
      "File \u001b[1;32m~\\AppData\\Local\\Packages\\PythonSoftwareFoundation.Python.3.9_qbz5n2kfra8p0\\LocalCache\\local-packages\\Python39\\site-packages\\azure\\storage\\blob\\_blob_service_client.py:439\u001b[0m, in \u001b[0;36mBlobServiceClient.list_containers\u001b[1;34m(self, name_starts_with, include_metadata, **kwargs)\u001b[0m\n\u001b[0;32m    <a href='file:///c%3A/Users/mberrueta/AppData/Local/Packages/PythonSoftwareFoundation.Python.3.9_qbz5n2kfra8p0/LocalCache/local-packages/Python39/site-packages/azure/storage/blob/_blob_service_client.py?line=435'>436</a>\u001b[0m timeout \u001b[39m=\u001b[39m kwargs\u001b[39m.\u001b[39mpop(\u001b[39m'\u001b[39m\u001b[39mtimeout\u001b[39m\u001b[39m'\u001b[39m, \u001b[39mNone\u001b[39;00m)\n\u001b[0;32m    <a href='file:///c%3A/Users/mberrueta/AppData/Local/Packages/PythonSoftwareFoundation.Python.3.9_qbz5n2kfra8p0/LocalCache/local-packages/Python39/site-packages/azure/storage/blob/_blob_service_client.py?line=436'>437</a>\u001b[0m results_per_page \u001b[39m=\u001b[39m kwargs\u001b[39m.\u001b[39mpop(\u001b[39m'\u001b[39m\u001b[39mresults_per_page\u001b[39m\u001b[39m'\u001b[39m, \u001b[39mNone\u001b[39;00m)\n\u001b[0;32m    <a href='file:///c%3A/Users/mberrueta/AppData/Local/Packages/PythonSoftwareFoundation.Python.3.9_qbz5n2kfra8p0/LocalCache/local-packages/Python39/site-packages/azure/storage/blob/_blob_service_client.py?line=437'>438</a>\u001b[0m command \u001b[39m=\u001b[39m functools\u001b[39m.\u001b[39mpartial(\n\u001b[1;32m--> <a href='file:///c%3A/Users/mberrueta/AppData/Local/Packages/PythonSoftwareFoundation.Python.3.9_qbz5n2kfra8p0/LocalCache/local-packages/Python39/site-packages/azure/storage/blob/_blob_service_client.py?line=438'>439</a>\u001b[0m     \u001b[39mself\u001b[39;49m\u001b[39m.\u001b[39;49m_client\u001b[39m.\u001b[39mservice\u001b[39m.\u001b[39mlist_containers_segment,\n\u001b[0;32m    <a href='file:///c%3A/Users/mberrueta/AppData/Local/Packages/PythonSoftwareFoundation.Python.3.9_qbz5n2kfra8p0/LocalCache/local-packages/Python39/site-packages/azure/storage/blob/_blob_service_client.py?line=439'>440</a>\u001b[0m     prefix\u001b[39m=\u001b[39mname_starts_with,\n\u001b[0;32m    <a href='file:///c%3A/Users/mberrueta/AppData/Local/Packages/PythonSoftwareFoundation.Python.3.9_qbz5n2kfra8p0/LocalCache/local-packages/Python39/site-packages/azure/storage/blob/_blob_service_client.py?line=440'>441</a>\u001b[0m     include\u001b[39m=\u001b[39minclude,\n\u001b[0;32m    <a href='file:///c%3A/Users/mberrueta/AppData/Local/Packages/PythonSoftwareFoundation.Python.3.9_qbz5n2kfra8p0/LocalCache/local-packages/Python39/site-packages/azure/storage/blob/_blob_service_client.py?line=441'>442</a>\u001b[0m     timeout\u001b[39m=\u001b[39mtimeout,\n\u001b[0;32m    <a href='file:///c%3A/Users/mberrueta/AppData/Local/Packages/PythonSoftwareFoundation.Python.3.9_qbz5n2kfra8p0/LocalCache/local-packages/Python39/site-packages/azure/storage/blob/_blob_service_client.py?line=442'>443</a>\u001b[0m     \u001b[39m*\u001b[39m\u001b[39m*\u001b[39mkwargs)\n\u001b[0;32m    <a href='file:///c%3A/Users/mberrueta/AppData/Local/Packages/PythonSoftwareFoundation.Python.3.9_qbz5n2kfra8p0/LocalCache/local-packages/Python39/site-packages/azure/storage/blob/_blob_service_client.py?line=443'>444</a>\u001b[0m \u001b[39mreturn\u001b[39;00m ItemPaged(\n\u001b[0;32m    <a href='file:///c%3A/Users/mberrueta/AppData/Local/Packages/PythonSoftwareFoundation.Python.3.9_qbz5n2kfra8p0/LocalCache/local-packages/Python39/site-packages/azure/storage/blob/_blob_service_client.py?line=444'>445</a>\u001b[0m         command,\n\u001b[0;32m    <a href='file:///c%3A/Users/mberrueta/AppData/Local/Packages/PythonSoftwareFoundation.Python.3.9_qbz5n2kfra8p0/LocalCache/local-packages/Python39/site-packages/azure/storage/blob/_blob_service_client.py?line=445'>446</a>\u001b[0m         prefix\u001b[39m=\u001b[39mname_starts_with,\n\u001b[0;32m    <a href='file:///c%3A/Users/mberrueta/AppData/Local/Packages/PythonSoftwareFoundation.Python.3.9_qbz5n2kfra8p0/LocalCache/local-packages/Python39/site-packages/azure/storage/blob/_blob_service_client.py?line=446'>447</a>\u001b[0m         results_per_page\u001b[39m=\u001b[39mresults_per_page,\n\u001b[0;32m    <a href='file:///c%3A/Users/mberrueta/AppData/Local/Packages/PythonSoftwareFoundation.Python.3.9_qbz5n2kfra8p0/LocalCache/local-packages/Python39/site-packages/azure/storage/blob/_blob_service_client.py?line=447'>448</a>\u001b[0m         page_iterator_class\u001b[39m=\u001b[39mContainerPropertiesPaged\n\u001b[0;32m    <a href='file:///c%3A/Users/mberrueta/AppData/Local/Packages/PythonSoftwareFoundation.Python.3.9_qbz5n2kfra8p0/LocalCache/local-packages/Python39/site-packages/azure/storage/blob/_blob_service_client.py?line=448'>449</a>\u001b[0m     )\n",
      "\u001b[1;31mAttributeError\u001b[0m: type object 'BlobServiceClient' has no attribute '_client'"
     ]
    },
    {
     "ename": "",
     "evalue": "",
     "output_type": "error",
     "traceback": [
      "\u001b[1;31mThe Kernel crashed while executing code in the the current cell or a previous cell. Please review the code in the cell(s) to identify a possible cause of the failure. Click <a href='https://aka.ms/vscodeJupyterKernelCrash'>here</a> for more info. View Jupyter <a href='command:jupyter.viewOutput'>log</a> for further details."
     ]
    }
   ],
   "source": [
    "#print(f'Storage Account Name: {container_client.account_name}\\n')\n",
    "#container_list = blob_service_client.list_containers()\n",
    "#print(container_list)\n",
    "\n",
    "#containers = container_client.list_blobs()\n",
    "containers = BlobServiceClient.list_containers()\n",
    "for container in containers:\n",
    "    print(\"\\t\" + container.name)\n",
    "\n",
    "#print(f'Blobs:')\n",
    "#for blob in blob_list:\n",
    "#    print(\"\\t\" + blob.name)"
   ]
  }
 ],
 "metadata": {
  "interpreter": {
   "hash": "8e284ee3255a07ad8bf76694974743c4c81cb57e7c969474d752d949b11d721e"
  },
  "kernelspec": {
   "display_name": "Python 3.9.13 64-bit",
   "language": "python",
   "name": "python3"
  },
  "language_info": {
   "codemirror_mode": {
    "name": "ipython",
    "version": 3
   },
   "file_extension": ".py",
   "mimetype": "text/x-python",
   "name": "python",
   "nbconvert_exporter": "python",
   "pygments_lexer": "ipython3",
   "version": "3.9.13"
  },
  "orig_nbformat": 4
 },
 "nbformat": 4,
 "nbformat_minor": 2
}
